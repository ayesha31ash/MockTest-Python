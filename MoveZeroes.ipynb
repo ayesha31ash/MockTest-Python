{
  "nbformat": 4,
  "nbformat_minor": 0,
  "metadata": {
    "colab": {
      "provenance": []
    },
    "kernelspec": {
      "name": "python3",
      "display_name": "Python 3"
    },
    "language_info": {
      "name": "python"
    }
  },
  "cells": [
    {
      "cell_type": "code",
      "source": [
        "def moveZeroes(nums):\n",
        "    # Initialize the index to insert non-zero elements\n",
        "    insert_pos = 0\n",
        "\n",
        "    # Iterate through the array\n",
        "    for num in nums:\n",
        "        # If the current element is non-zero, move it to the insert position\n",
        "        if num != 0:\n",
        "            nums[insert_pos] = num\n",
        "            insert_pos += 1\n",
        "\n",
        "    # Fill the remaining positions from insert_pos to the end of the array with zeros\n",
        "    while insert_pos < len(nums):\n",
        "        nums[insert_pos] = 0\n",
        "        insert_pos += 1\n",
        "\n",
        "    return nums"
      ],
      "metadata": {
        "id": "lVl4LExEpcUo"
      },
      "execution_count": 18,
      "outputs": []
    },
    {
      "cell_type": "code",
      "source": [
        "nums1 = [0, 1, 0, 3, 12]\n",
        "print(moveZeroes(nums1))  \n",
        "\n",
        "nums2 = [0]\n",
        "print(moveZeroes(nums2))  "
      ],
      "metadata": {
        "colab": {
          "base_uri": "https://localhost:8080/"
        },
        "id": "C-Oh_8sbpiRU",
        "outputId": "5faab4e7-76e7-40ff-ce5b-7421b305d93d"
      },
      "execution_count": 19,
      "outputs": [
        {
          "output_type": "stream",
          "name": "stdout",
          "text": [
            "[1, 3, 12, 0, 0]\n",
            "[0]\n"
          ]
        }
      ]
    }
  ]
}