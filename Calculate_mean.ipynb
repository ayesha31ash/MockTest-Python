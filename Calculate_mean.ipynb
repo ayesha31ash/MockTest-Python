{
  "nbformat": 4,
  "nbformat_minor": 0,
  "metadata": {
    "colab": {
      "provenance": []
    },
    "kernelspec": {
      "name": "python3",
      "display_name": "Python 3"
    },
    "language_info": {
      "name": "python"
    }
  },
  "cells": [
    {
      "cell_type": "code",
      "execution_count": 1,
      "metadata": {
        "colab": {
          "base_uri": "https://localhost:8080/"
        },
        "id": "XvJ-gHrZD161",
        "outputId": "07b28cfc-becf-4b4b-a070-09402621d33a"
      },
      "outputs": [
        {
          "output_type": "stream",
          "name": "stdout",
          "text": [
            "Mean: 20.0\n"
          ]
        }
      ],
      "source": [
        "def calculate_mean(numbers):\n",
        "    count = 0\n",
        "    total = 0\n",
        "\n",
        "    for num in numbers:\n",
        "        total += num\n",
        "        count += 1\n",
        "\n",
        "    mean = total / count\n",
        "    return mean\n",
        "\n",
        "data = [10, 15, 20, 25, 30]\n",
        "mean_value = calculate_mean(data)\n",
        "print(\"Mean:\", mean_value)"
      ]
    }
  ]
}