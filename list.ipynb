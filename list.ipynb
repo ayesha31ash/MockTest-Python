{
  "nbformat": 4,
  "nbformat_minor": 0,
  "metadata": {
    "colab": {
      "provenance": []
    },
    "kernelspec": {
      "name": "python3",
      "display_name": "Python 3"
    },
    "language_info": {
      "name": "python"
    }
  },
  "cells": [
    {
      "cell_type": "code",
      "execution_count": 1,
      "metadata": {
        "id": "AzYqny5roVYm"
      },
      "outputs": [],
      "source": [
        "class ListNode:\n",
        "    def __init__(self, val=0, next=None):\n",
        "        self.val = val\n",
        "        self.next = next\n",
        "\n",
        "def addTwoNumbers(l1, l2):\n",
        "    dummy = ListNode(0)\n",
        "    curr = dummy\n",
        "    carry = 0\n",
        "\n",
        "    while l1 or l2 or carry:\n",
        "        val1 = l1.val if l1 else 0\n",
        "        val2 = l2.val if l2 else 0\n",
        "        total = val1 + val2 + carry\n",
        "\n",
        "        carry = total // 10\n",
        "        digit = total % 10\n",
        "\n",
        "        curr.next = ListNode(digit)\n",
        "        curr = curr.next\n",
        "\n",
        "        l1 = l1.next if l1 else None\n",
        "        l2 = l2.next if l2 else None\n",
        "\n",
        "    return dummy.next"
      ]
    },
    {
      "cell_type": "code",
      "source": [
        "# Create the first linked list: 2 -> 4 -> 3\n",
        "l1 = ListNode(2)\n",
        "l1.next = ListNode(4)\n",
        "l1.next.next = ListNode(3)\n",
        "\n",
        "# Create the second linked list: 5 -> 6 -> 4\n",
        "l2 = ListNode(5)\n",
        "l2.next = ListNode(6)\n",
        "l2.next.next = ListNode(4)\n",
        "\n",
        "# Add the two numbers\n",
        "result = addTwoNumbers(l1, l2)\n",
        "\n",
        "# Print the result: 7 -> 0 -> 8\n",
        "while result:\n",
        "    print(result.val, end=\" \")\n",
        "    result = result.next"
      ],
      "metadata": {
        "colab": {
          "base_uri": "https://localhost:8080/"
        },
        "id": "qtdug8GZoZyv",
        "outputId": "762f10a3-6dbe-4dc9-b42d-2706bbfc12b0"
      },
      "execution_count": 2,
      "outputs": [
        {
          "output_type": "stream",
          "name": "stdout",
          "text": [
            "7 0 8 "
          ]
        }
      ]
    }
  ]
}