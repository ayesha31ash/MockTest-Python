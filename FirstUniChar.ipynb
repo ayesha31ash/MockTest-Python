{
  "nbformat": 4,
  "nbformat_minor": 0,
  "metadata": {
    "colab": {
      "provenance": []
    },
    "kernelspec": {
      "name": "python3",
      "display_name": "Python 3"
    },
    "language_info": {
      "name": "python"
    }
  },
  "cells": [
    {
      "cell_type": "code",
      "execution_count": 1,
      "metadata": {
        "id": "wCHMhYbOqT_v"
      },
      "outputs": [],
      "source": [
        "def firstUniqChar(s):\n",
        "    # Create a dictionary to store the count of each character\n",
        "    char_count = {}\n",
        "\n",
        "    # Count the occurrences of each character in the string\n",
        "    for char in s:\n",
        "        char_count[char] = char_count.get(char, 0) + 1\n",
        "\n",
        "    # Iterate over the string to find the first character with a count of 1\n",
        "    for i, char in enumerate(s):\n",
        "        if char_count[char] == 1:\n",
        "            return i\n",
        "\n",
        "    # If no unique character is found, return -1\n",
        "    return -1"
      ]
    },
    {
      "cell_type": "code",
      "source": [
        "s1 = \"leetcode\"\n",
        "print(firstUniqChar(s1))  \n",
        "\n",
        "s2 = \"loveleetcode\"\n",
        "print(firstUniqChar(s2))  \n",
        "\n",
        "s3 = \"aabb\"\n",
        "print(firstUniqChar(s3))  "
      ],
      "metadata": {
        "id": "HHxZRACGqdGT",
        "outputId": "012fd909-9c99-4bb4-dd90-873055992385",
        "colab": {
          "base_uri": "https://localhost:8080/"
        }
      },
      "execution_count": 2,
      "outputs": [
        {
          "output_type": "stream",
          "name": "stdout",
          "text": [
            "0\n",
            "2\n",
            "-1\n"
          ]
        }
      ]
    }
  ]
}